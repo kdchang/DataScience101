{
 "cells": [
  {
   "cell_type": "code",
   "execution_count": 150,
   "metadata": {
    "collapsed": false
   },
   "outputs": [
    {
     "name": "stdout",
     "output_type": "stream",
     "text": [
      "0    1.0\n",
      "1    3.0\n",
      "2    5.0\n",
      "3    NaN\n",
      "4    6.0\n",
      "5    8.0\n",
      "dtype: float64\n"
     ]
    }
   ],
   "source": [
    "%matplotlib inline\n",
    "# 引入 numpy 和 pandas 模組\n",
    "import numpy as np \n",
    "import pandas as pd\n",
    "s1 = pd.Series([1, 3, 5, np.nan, 6, 8]) # 使用 Python lits 產生 Series，其中包含一個值為 NaN \n",
    "\n",
    "print(s1)"
   ]
  },
  {
   "cell_type": "code",
   "execution_count": 151,
   "metadata": {
    "collapsed": false
   },
   "outputs": [
    {
     "name": "stdout",
     "output_type": "stream",
     "text": [
      "0    1\n",
      "1    0\n",
      "2    1\n",
      "dtype: int64\n"
     ]
    }
   ],
   "source": [
    "s2 = pd.Series(np.random.randint(2, size=[3])) # 使用 np.random.randint 產生 3 個 0-2（不含 2）的數組\n",
    "\n",
    "print(s2)"
   ]
  },
  {
   "cell_type": "code",
   "execution_count": 170,
   "metadata": {
    "collapsed": false
   },
   "outputs": [
    {
     "name": "stdout",
     "output_type": "stream",
     "text": [
      "                   A         B         C         D\n",
      "2017-01-01 -0.797168 -2.122330  2.324602  2.595400\n",
      "2017-01-02 -0.133385 -0.139490 -2.128673 -0.621511\n",
      "2017-01-03  0.357996 -1.994272  1.057832 -1.172387\n",
      "2017-01-04 -0.196025  0.755602 -0.065522  0.374264\n",
      "2017-01-05  0.194292 -0.661996 -0.433581 -0.158140\n",
      "2017-01-06 -1.518186 -1.392394 -0.144088 -0.814069\n"
     ]
    }
   ],
   "source": [
    "# 產生 20170101-20170106 的值，DatetimeIndex(['2017-01-01', '2017-01-02', '2017-01-03', '2017-01-04', '2017-01-05', '2017-01-06'], dtype='datetime64[ns]', freq='D')\n",
    "dates = pd.date_range('20170101', periods=6)\n",
    "\n",
    "# 產生 row6,column4 個 standard normal distribution 隨機值，使用 ABCD 當 columns，使用 dates 當 index\n",
    "df0 = pd.DataFrame(np.random.randn(6,4), index=dates, columns=list('ABCD')) \n",
    "print(df0)"
   ]
  },
  {
   "cell_type": "code",
   "execution_count": 171,
   "metadata": {
    "collapsed": false
   },
   "outputs": [
    {
     "name": "stdout",
     "output_type": "stream",
     "text": [
      "   nums   teams\n",
      "0    12     Web\n",
      "1    14  Mobile\n",
      "2    34    Data\n"
     ]
    }
   ],
   "source": [
    "# 使用 dict 來創建 DataFrame\n",
    "teams = ['Web', 'Mobile', 'Data']\n",
    "nums = [12, 14, 34]\n",
    "rd_team_dict = {\n",
    "                'teams': teams,\n",
    "                'nums': nums\n",
    "}\n",
    "rd_team_df = pd.DataFrame(rd_team_dict)\n",
    "\n",
    "print(rd_team_df)"
   ]
  },
  {
   "cell_type": "code",
   "execution_count": 172,
   "metadata": {
    "collapsed": false
   },
   "outputs": [
    {
     "name": "stdout",
     "output_type": "stream",
     "text": [
      "A           float64\n",
      "B    datetime64[ns]\n",
      "C           float32\n",
      "D             int32\n",
      "E          category\n",
      "F            object\n",
      "dtype: object\n"
     ]
    }
   ],
   "source": [
    "# 觀察資料型態、結構、內容值\n",
    "df = pd.DataFrame({ 'A' : 1.,\n",
    "                    'B' : pd.Timestamp('20170102'),\n",
    "                    'C' : pd.Series(1,index=list(range(4)),dtype='float32'),\n",
    "                    'D' : np.array([3] * 4,dtype='int32'),\n",
    "                    'E' : pd.Categorical([\"test\",\"train\",\"test\",\"train\"]),\n",
    "                    'F' : 'foo' })\n",
    "\n",
    "# 印出內容值資料型別\n",
    "print(df.dtypes)"
   ]
  },
  {
   "cell_type": "code",
   "execution_count": 155,
   "metadata": {
    "collapsed": false
   },
   "outputs": [
    {
     "name": "stdout",
     "output_type": "stream",
     "text": [
      "(4, 6)\n"
     ]
    }
   ],
   "source": [
    "# 印出資料維度\n",
    "print(df.shape)"
   ]
  },
  {
   "cell_type": "code",
   "execution_count": 156,
   "metadata": {
    "collapsed": false
   },
   "outputs": [
    {
     "name": "stdout",
     "output_type": "stream",
     "text": [
      "4\n"
     ]
    }
   ],
   "source": [
    "# 印出每行資料長度\n",
    "print(len(df))"
   ]
  },
  {
   "cell_type": "code",
   "execution_count": 157,
   "metadata": {
    "collapsed": false
   },
   "outputs": [
    {
     "name": "stdout",
     "output_type": "stream",
     "text": [
      "<class 'pandas.core.frame.DataFrame'>\n",
      "Int64Index: 4 entries, 0 to 3\n",
      "Data columns (total 6 columns):\n",
      "A    4 non-null float64\n",
      "B    4 non-null datetime64[ns]\n",
      "C    4 non-null float32\n",
      "D    4 non-null int32\n",
      "E    4 non-null category\n",
      "F    4 non-null object\n",
      "dtypes: category(1), datetime64[ns](1), float32(1), float64(1), int32(1), object(1)\n",
      "memory usage: 180.0+ bytes\n",
      "None\n"
     ]
    }
   ],
   "source": [
    "# 印出 DataFrame 資料概況\n",
    "print(df.info())"
   ]
  },
  {
   "cell_type": "code",
   "execution_count": 158,
   "metadata": {
    "collapsed": false
   },
   "outputs": [
    {
     "name": "stdout",
     "output_type": "stream",
     "text": [
      "         A    C    D\n",
      "count  4.0  4.0  4.0\n",
      "mean   1.0  1.0  3.0\n",
      "std    0.0  0.0  0.0\n",
      "min    1.0  1.0  3.0\n",
      "25%    1.0  1.0  3.0\n",
      "50%    1.0  1.0  3.0\n",
      "75%    1.0  1.0  3.0\n",
      "max    1.0  1.0  3.0\n"
     ]
    }
   ],
   "source": [
    "# 印出基本敘述統計數據\n",
    "print(df.describe())"
   ]
  },
  {
   "cell_type": "code",
   "execution_count": 159,
   "metadata": {
    "collapsed": false
   },
   "outputs": [
    {
     "name": "stdout",
     "output_type": "stream",
     "text": [
      "     A          B    C  D      E    F\n",
      "0  1.0 2017-01-02  1.0  3   test  foo\n",
      "1  1.0 2017-01-02  1.0  3  train  foo\n"
     ]
    }
   ],
   "source": [
    "# 印出首 i 個數據\n",
    "print(df.head(2))"
   ]
  },
  {
   "cell_type": "code",
   "execution_count": 160,
   "metadata": {
    "collapsed": false
   },
   "outputs": [
    {
     "name": "stdout",
     "output_type": "stream",
     "text": [
      "     A          B    C  D      E    F\n",
      "2  1.0 2017-01-02  1.0  3   test  foo\n",
      "3  1.0 2017-01-02  1.0  3  train  foo\n"
     ]
    }
   ],
   "source": [
    "# 印出尾 i 個數據\n",
    "print(df.tail(2))"
   ]
  },
  {
   "cell_type": "code",
   "execution_count": 161,
   "metadata": {
    "collapsed": false
   },
   "outputs": [
    {
     "name": "stdout",
     "output_type": "stream",
     "text": [
      "Int64Index([0, 1, 2, 3], dtype='int64')\n"
     ]
    }
   ],
   "source": [
    "# 印出 index 值\n",
    "print(df.index)"
   ]
  },
  {
   "cell_type": "code",
   "execution_count": 162,
   "metadata": {
    "collapsed": false
   },
   "outputs": [
    {
     "name": "stdout",
     "output_type": "stream",
     "text": [
      "Index(['A', 'B', 'C', 'D', 'E', 'F'], dtype='object')\n"
     ]
    }
   ],
   "source": [
    "# 印出 columns 值\n",
    "print(df.columns)"
   ]
  },
  {
   "cell_type": "code",
   "execution_count": 163,
   "metadata": {
    "collapsed": false
   },
   "outputs": [
    {
     "name": "stdout",
     "output_type": "stream",
     "text": [
      "[[1.0 Timestamp('2017-01-02 00:00:00') 1.0 3 'test' 'foo']\n",
      " [1.0 Timestamp('2017-01-02 00:00:00') 1.0 3 'train' 'foo']\n",
      " [1.0 Timestamp('2017-01-02 00:00:00') 1.0 3 'test' 'foo']\n",
      " [1.0 Timestamp('2017-01-02 00:00:00') 1.0 3 'train' 'foo']]\n"
     ]
    }
   ],
   "source": [
    "# 印出 values 值\n",
    "print(df.values)"
   ]
  },
  {
   "cell_type": "code",
   "execution_count": 164,
   "metadata": {
    "collapsed": false
   },
   "outputs": [
    {
     "name": "stdout",
     "output_type": "stream",
     "text": [
      "                     0                    1                    2  \\\n",
      "A                    1                    1                    1   \n",
      "B  2017-01-02 00:00:00  2017-01-02 00:00:00  2017-01-02 00:00:00   \n",
      "C                    1                    1                    1   \n",
      "D                    3                    3                    3   \n",
      "E                 test                train                 test   \n",
      "F                  foo                  foo                  foo   \n",
      "\n",
      "                     3  \n",
      "A                    1  \n",
      "B  2017-01-02 00:00:00  \n",
      "C                    1  \n",
      "D                    3  \n",
      "E                train  \n",
      "F                  foo  \n"
     ]
    }
   ],
   "source": [
    "# 印出轉置 DataFrame\n",
    "print(df.T)"
   ]
  },
  {
   "cell_type": "code",
   "execution_count": 165,
   "metadata": {
    "collapsed": false
   },
   "outputs": [
    {
     "name": "stdout",
     "output_type": "stream",
     "text": [
      "     F      E  D    C          B    A\n",
      "0  foo   test  3  1.0 2017-01-02  1.0\n",
      "1  foo  train  3  1.0 2017-01-02  1.0\n",
      "2  foo   test  3  1.0 2017-01-02  1.0\n",
      "3  foo  train  3  1.0 2017-01-02  1.0\n"
     ]
    }
   ],
   "source": [
    "# 印出\n",
    "print(df.sort_index(axis=1, ascending=False))"
   ]
  },
  {
   "cell_type": "code",
   "execution_count": 166,
   "metadata": {
    "collapsed": false
   },
   "outputs": [
    {
     "name": "stdout",
     "output_type": "stream",
     "text": [
      "     A          B    C  D      E    F\n",
      "0  1.0 2017-01-02  1.0  3   test  foo\n",
      "1  1.0 2017-01-02  1.0  3  train  foo\n",
      "2  1.0 2017-01-02  1.0  3   test  foo\n",
      "3  1.0 2017-01-02  1.0  3  train  foo\n"
     ]
    }
   ],
   "source": [
    "print(df.sort_values(by='B'))"
   ]
  },
  {
   "cell_type": "code",
   "execution_count": 167,
   "metadata": {
    "collapsed": false
   },
   "outputs": [
    {
     "name": "stdout",
     "output_type": "stream",
     "text": [
      "A                      1\n",
      "B    2017-01-02 00:00:00\n",
      "C                      1\n",
      "D                      3\n",
      "E                   test\n",
      "F                    foo\n",
      "Name: 0, dtype: object\n"
     ]
    }
   ],
   "source": [
    "print(df.loc[0])"
   ]
  },
  {
   "cell_type": "code",
   "execution_count": 168,
   "metadata": {
    "collapsed": false,
    "scrolled": true
   },
   "outputs": [
    {
     "name": "stdout",
     "output_type": "stream",
     "text": [
      "           B\n",
      "0 2017-01-02\n",
      "1 2017-01-02\n",
      "2 2017-01-02\n"
     ]
    }
   ],
   "source": [
    "print(df.iloc[0:3, 1:2])"
   ]
  },
  {
   "cell_type": "code",
   "execution_count": 169,
   "metadata": {
    "collapsed": false
   },
   "outputs": [
    {
     "name": "stdout",
     "output_type": "stream",
     "text": [
      "2017-01-02 00:00:00\n"
     ]
    }
   ],
   "source": [
    "print(df.ix[0, 'B'])"
   ]
  },
  {
   "cell_type": "code",
   "execution_count": 133,
   "metadata": {
    "collapsed": false
   },
   "outputs": [
    {
     "name": "stdout",
     "output_type": "stream",
     "text": [
      "-1.29319297731\n"
     ]
    }
   ],
   "source": [
    "print(df.ix[1, 3])"
   ]
  },
  {
   "cell_type": "code",
   "execution_count": 134,
   "metadata": {
    "collapsed": false
   },
   "outputs": [
    {
     "name": "stdout",
     "output_type": "stream",
     "text": [
      "          A         B         C         D\n",
      "2  1.064485 -0.904849 -0.105386 -0.976939\n",
      "3  0.114343  1.158234  0.894539  0.499960\n",
      "6  1.259665  1.567397 -1.260481 -0.380284\n"
     ]
    }
   ],
   "source": [
    "print(df[df.A > 0])"
   ]
  },
  {
   "cell_type": "code",
   "execution_count": 137,
   "metadata": {
    "collapsed": false
   },
   "outputs": [
    {
     "name": "stdout",
     "output_type": "stream",
     "text": [
      "2017-01-02    1\n",
      "2017-01-03    2\n",
      "2017-01-04    3\n",
      "2017-01-05    4\n",
      "2017-01-06    5\n",
      "2017-01-07    6\n",
      "Freq: D, dtype: int64\n"
     ]
    }
   ],
   "source": [
    "s1 = pd.Series([1,2,3,4,5,6], index=pd.date_range('20170102', periods=6))\n",
    "print(s1)"
   ]
  },
  {
   "cell_type": "code",
   "execution_count": 138,
   "metadata": {
    "collapsed": false
   },
   "outputs": [
    {
     "name": "stdout",
     "output_type": "stream",
     "text": [
      "          A         B         C  D\n",
      "0 -0.913042  2.385854  0.449473  5\n",
      "1 -0.672873  0.413874 -0.000425  5\n",
      "2  1.064485 -0.904849 -0.105386  5\n",
      "3  0.114343  1.158234  0.894539  5\n",
      "4 -0.369506  1.414008  1.633419  5\n",
      "5 -2.444536  2.129601 -0.154525  5\n",
      "6  1.259665  1.567397 -1.260481  5\n",
      "7 -2.148954 -1.655410  0.297069  5\n"
     ]
    }
   ],
   "source": [
    "df.loc[:,'D'] = np.array([5] * len(df))\n",
    "print(df)"
   ]
  },
  {
   "cell_type": "code",
   "execution_count": 139,
   "metadata": {
    "collapsed": false
   },
   "outputs": [
    {
     "name": "stdout",
     "output_type": "stream",
     "text": [
      "            A  B  C  D  E\n",
      "2017-01-01  1  1  1  1  1\n",
      "2017-01-02  1  1  1  1  1\n",
      "            A  B  C  D  E\n",
      "2017-01-01  1  1  1  1  1\n",
      "2017-01-02  1  1  1  1  1\n",
      "2017-01-03  3  3  3  3  3\n",
      "2017-01-04  3  3  3  3  3\n",
      "              A    B    C    D    E\n",
      "2017-01-01    1    1    1    1    1\n",
      "2017-01-02    1    1    1    1    1\n",
      "2017-01-03  NaN  NaN  NaN  NaN  NaN\n",
      "2017-01-04  NaN  NaN  NaN  NaN  NaN\n",
      "                A      B      C      D      E\n",
      "2017-01-01  False  False  False  False  False\n",
      "2017-01-02  False  False  False  False  False\n",
      "2017-01-03   True   True   True   True   True\n",
      "2017-01-04   True   True   True   True   True\n"
     ]
    }
   ],
   "source": [
    "df2 = pd.DataFrame(index=dates[0:4], columns=list(df.columns) + ['E'])\n",
    "\n",
    "df2.loc[dates[0]:dates[1], :] = 1\n",
    "\n",
    "print(df2.dropna(how='any'))\n",
    "print(df2.fillna(value=3))\n",
    "print(df2)\n",
    "print(pd.isnull(df2))\n",
    "\n",
    "df2.dropna(how='any', inplace=True)\n"
   ]
  },
  {
   "cell_type": "code",
   "execution_count": 140,
   "metadata": {
    "collapsed": false
   },
   "outputs": [
    {
     "data": {
      "text/plain": [
       "A    1.0\n",
       "B    1.0\n",
       "C    1.0\n",
       "D    1.0\n",
       "E    1.0\n",
       "dtype: float64"
      ]
     },
     "execution_count": 140,
     "metadata": {},
     "output_type": "execute_result"
    }
   ],
   "source": [
    "df2.mean()"
   ]
  },
  {
   "cell_type": "code",
   "execution_count": 114,
   "metadata": {
    "collapsed": false
   },
   "outputs": [
    {
     "name": "stdout",
     "output_type": "stream",
     "text": [
      "          0         1         2         3\n",
      "0  1.336947 -1.665972  2.034113 -0.297738\n",
      "1 -0.178467  0.087940  0.032990  0.737333\n",
      "2  0.906461  0.630001 -1.434394 -0.334489\n",
      "3 -0.276433 -0.341020 -2.707394 -0.093100\n",
      "4 -2.283393 -0.898933 -2.249258  0.704569\n",
      "5 -0.575719  0.636050 -0.894894 -0.283406\n",
      "6  1.489833  0.033970  1.010141  0.604350\n",
      "7  0.439567 -0.113511  0.805396  1.173624\n",
      "8 -0.637530  1.051156 -0.402226  0.114731\n",
      "9  0.232193  1.109122 -1.031183 -0.974674\n",
      "[          0         1         2         3\n",
      "0  1.336947 -1.665972  2.034113 -0.297738\n",
      "1 -0.178467  0.087940  0.032990  0.737333\n",
      "2  0.906461  0.630001 -1.434394 -0.334489,           0         1         2         3\n",
      "3 -0.276433 -0.341020 -2.707394 -0.093100\n",
      "4 -2.283393 -0.898933 -2.249258  0.704569\n",
      "5 -0.575719  0.636050 -0.894894 -0.283406\n",
      "6  1.489833  0.033970  1.010141  0.604350,           0         1         2         3\n",
      "7  0.439567 -0.113511  0.805396  1.173624\n",
      "8 -0.637530  1.051156 -0.402226  0.114731\n",
      "9  0.232193  1.109122 -1.031183 -0.974674]\n",
      "          0         1         2         3\n",
      "0  1.336947 -1.665972  2.034113 -0.297738\n",
      "1 -0.178467  0.087940  0.032990  0.737333\n",
      "2  0.906461  0.630001 -1.434394 -0.334489\n",
      "3 -0.276433 -0.341020 -2.707394 -0.093100\n",
      "4 -2.283393 -0.898933 -2.249258  0.704569\n",
      "5 -0.575719  0.636050 -0.894894 -0.283406\n",
      "6  1.489833  0.033970  1.010141  0.604350\n",
      "7  0.439567 -0.113511  0.805396  1.173624\n",
      "8 -0.637530  1.051156 -0.402226  0.114731\n",
      "9  0.232193  1.109122 -1.031183 -0.974674\n"
     ]
    }
   ],
   "source": [
    "df = pd.DataFrame(np.random.randn(10, 4))\n",
    "print(df)\n",
    "pieces = [df[:3], df[3:7], df[7:]]\n",
    "print(pieces)\n",
    "print(pd.concat(pieces))"
   ]
  },
  {
   "cell_type": "code",
   "execution_count": 141,
   "metadata": {
    "collapsed": false
   },
   "outputs": [
    {
     "data": {
      "text/html": [
       "<div>\n",
       "<table border=\"1\" class=\"dataframe\">\n",
       "  <thead>\n",
       "    <tr style=\"text-align: right;\">\n",
       "      <th></th>\n",
       "      <th>key</th>\n",
       "      <th>lval</th>\n",
       "      <th>rval</th>\n",
       "    </tr>\n",
       "  </thead>\n",
       "  <tbody>\n",
       "    <tr>\n",
       "      <th>0</th>\n",
       "      <td>foo</td>\n",
       "      <td>1</td>\n",
       "      <td>4</td>\n",
       "    </tr>\n",
       "    <tr>\n",
       "      <th>1</th>\n",
       "      <td>foo</td>\n",
       "      <td>1</td>\n",
       "      <td>5</td>\n",
       "    </tr>\n",
       "    <tr>\n",
       "      <th>2</th>\n",
       "      <td>foo</td>\n",
       "      <td>2</td>\n",
       "      <td>4</td>\n",
       "    </tr>\n",
       "    <tr>\n",
       "      <th>3</th>\n",
       "      <td>foo</td>\n",
       "      <td>2</td>\n",
       "      <td>5</td>\n",
       "    </tr>\n",
       "  </tbody>\n",
       "</table>\n",
       "</div>"
      ],
      "text/plain": [
       "   key  lval  rval\n",
       "0  foo     1     4\n",
       "1  foo     1     5\n",
       "2  foo     2     4\n",
       "3  foo     2     5"
      ]
     },
     "execution_count": 141,
     "metadata": {},
     "output_type": "execute_result"
    }
   ],
   "source": [
    "left = pd.DataFrame({'key': ['foo', 'foo'], 'lval': [1, 2]})\n",
    "right = pd.DataFrame({'key': ['foo', 'foo'], 'rval': [4, 5]})\n",
    "pd.merge(left, right, on='key')"
   ]
  },
  {
   "cell_type": "code",
   "execution_count": 142,
   "metadata": {
    "collapsed": false
   },
   "outputs": [
    {
     "name": "stdout",
     "output_type": "stream",
     "text": [
      "          A         B         C         D\n",
      "0  0.779521  1.676673 -0.301394  0.862750\n",
      "1  0.823425  2.212430  0.648220 -1.063135\n",
      "2  0.667918 -0.228578  1.178518 -1.092225\n",
      "3 -0.917929 -0.488741  0.536762  0.450702\n",
      "4 -0.106557 -1.171121 -0.124944 -0.021547\n",
      "5  1.114488  0.333266  0.019064  0.193218\n",
      "6 -1.261637  0.117194 -1.741819 -0.158452\n",
      "7 -0.314921  0.930964  0.214532  1.223443\n"
     ]
    },
    {
     "data": {
      "text/html": [
       "<div>\n",
       "<table border=\"1\" class=\"dataframe\">\n",
       "  <thead>\n",
       "    <tr style=\"text-align: right;\">\n",
       "      <th></th>\n",
       "      <th>A</th>\n",
       "      <th>B</th>\n",
       "      <th>C</th>\n",
       "      <th>D</th>\n",
       "    </tr>\n",
       "  </thead>\n",
       "  <tbody>\n",
       "    <tr>\n",
       "      <th>0</th>\n",
       "      <td>0.779521</td>\n",
       "      <td>1.676673</td>\n",
       "      <td>-0.301394</td>\n",
       "      <td>0.862750</td>\n",
       "    </tr>\n",
       "    <tr>\n",
       "      <th>1</th>\n",
       "      <td>0.823425</td>\n",
       "      <td>2.212430</td>\n",
       "      <td>0.648220</td>\n",
       "      <td>-1.063135</td>\n",
       "    </tr>\n",
       "    <tr>\n",
       "      <th>2</th>\n",
       "      <td>0.667918</td>\n",
       "      <td>-0.228578</td>\n",
       "      <td>1.178518</td>\n",
       "      <td>-1.092225</td>\n",
       "    </tr>\n",
       "    <tr>\n",
       "      <th>3</th>\n",
       "      <td>-0.917929</td>\n",
       "      <td>-0.488741</td>\n",
       "      <td>0.536762</td>\n",
       "      <td>0.450702</td>\n",
       "    </tr>\n",
       "    <tr>\n",
       "      <th>4</th>\n",
       "      <td>-0.106557</td>\n",
       "      <td>-1.171121</td>\n",
       "      <td>-0.124944</td>\n",
       "      <td>-0.021547</td>\n",
       "    </tr>\n",
       "    <tr>\n",
       "      <th>5</th>\n",
       "      <td>1.114488</td>\n",
       "      <td>0.333266</td>\n",
       "      <td>0.019064</td>\n",
       "      <td>0.193218</td>\n",
       "    </tr>\n",
       "    <tr>\n",
       "      <th>6</th>\n",
       "      <td>-1.261637</td>\n",
       "      <td>0.117194</td>\n",
       "      <td>-1.741819</td>\n",
       "      <td>-0.158452</td>\n",
       "    </tr>\n",
       "    <tr>\n",
       "      <th>7</th>\n",
       "      <td>-0.314921</td>\n",
       "      <td>0.930964</td>\n",
       "      <td>0.214532</td>\n",
       "      <td>1.223443</td>\n",
       "    </tr>\n",
       "    <tr>\n",
       "      <th>8</th>\n",
       "      <td>-0.917929</td>\n",
       "      <td>-0.488741</td>\n",
       "      <td>0.536762</td>\n",
       "      <td>0.450702</td>\n",
       "    </tr>\n",
       "  </tbody>\n",
       "</table>\n",
       "</div>"
      ],
      "text/plain": [
       "          A         B         C         D\n",
       "0  0.779521  1.676673 -0.301394  0.862750\n",
       "1  0.823425  2.212430  0.648220 -1.063135\n",
       "2  0.667918 -0.228578  1.178518 -1.092225\n",
       "3 -0.917929 -0.488741  0.536762  0.450702\n",
       "4 -0.106557 -1.171121 -0.124944 -0.021547\n",
       "5  1.114488  0.333266  0.019064  0.193218\n",
       "6 -1.261637  0.117194 -1.741819 -0.158452\n",
       "7 -0.314921  0.930964  0.214532  1.223443\n",
       "8 -0.917929 -0.488741  0.536762  0.450702"
      ]
     },
     "execution_count": 142,
     "metadata": {},
     "output_type": "execute_result"
    }
   ],
   "source": [
    "df = pd.DataFrame(np.random.randn(8, 4), columns=['A','B','C','D'])\n",
    "print(df)\n",
    "s = df.iloc[3]\n",
    "df.append(s, ignore_index=True)"
   ]
  },
  {
   "cell_type": "code",
   "execution_count": 143,
   "metadata": {
    "collapsed": false
   },
   "outputs": [
    {
     "data": {
      "text/html": [
       "<div>\n",
       "<table border=\"1\" class=\"dataframe\">\n",
       "  <thead>\n",
       "    <tr style=\"text-align: right;\">\n",
       "      <th></th>\n",
       "      <th></th>\n",
       "      <th>C</th>\n",
       "      <th>D</th>\n",
       "    </tr>\n",
       "    <tr>\n",
       "      <th>A</th>\n",
       "      <th>B</th>\n",
       "      <th></th>\n",
       "      <th></th>\n",
       "    </tr>\n",
       "  </thead>\n",
       "  <tbody>\n",
       "    <tr>\n",
       "      <th>-1.261637</th>\n",
       "      <th>0.117194</th>\n",
       "      <td>-1.741819</td>\n",
       "      <td>-0.158452</td>\n",
       "    </tr>\n",
       "    <tr>\n",
       "      <th>-0.917929</th>\n",
       "      <th>-0.488741</th>\n",
       "      <td>0.536762</td>\n",
       "      <td>0.450702</td>\n",
       "    </tr>\n",
       "    <tr>\n",
       "      <th>-0.314921</th>\n",
       "      <th>0.930964</th>\n",
       "      <td>0.214532</td>\n",
       "      <td>1.223443</td>\n",
       "    </tr>\n",
       "    <tr>\n",
       "      <th>-0.106557</th>\n",
       "      <th>-1.171121</th>\n",
       "      <td>-0.124944</td>\n",
       "      <td>-0.021547</td>\n",
       "    </tr>\n",
       "    <tr>\n",
       "      <th>0.667918</th>\n",
       "      <th>-0.228578</th>\n",
       "      <td>1.178518</td>\n",
       "      <td>-1.092225</td>\n",
       "    </tr>\n",
       "    <tr>\n",
       "      <th>0.779521</th>\n",
       "      <th>1.676673</th>\n",
       "      <td>-0.301394</td>\n",
       "      <td>0.862750</td>\n",
       "    </tr>\n",
       "    <tr>\n",
       "      <th>0.823425</th>\n",
       "      <th>2.212430</th>\n",
       "      <td>0.648220</td>\n",
       "      <td>-1.063135</td>\n",
       "    </tr>\n",
       "    <tr>\n",
       "      <th>1.114488</th>\n",
       "      <th>0.333266</th>\n",
       "      <td>0.019064</td>\n",
       "      <td>0.193218</td>\n",
       "    </tr>\n",
       "  </tbody>\n",
       "</table>\n",
       "</div>"
      ],
      "text/plain": [
       "                            C         D\n",
       "A         B                            \n",
       "-1.261637  0.117194 -1.741819 -0.158452\n",
       "-0.917929 -0.488741  0.536762  0.450702\n",
       "-0.314921  0.930964  0.214532  1.223443\n",
       "-0.106557 -1.171121 -0.124944 -0.021547\n",
       " 0.667918 -0.228578  1.178518 -1.092225\n",
       " 0.779521  1.676673 -0.301394  0.862750\n",
       " 0.823425  2.212430  0.648220 -1.063135\n",
       " 1.114488  0.333266  0.019064  0.193218"
      ]
     },
     "execution_count": 143,
     "metadata": {},
     "output_type": "execute_result"
    }
   ],
   "source": [
    "df.groupby(['A','B']).sum()"
   ]
  },
  {
   "cell_type": "code",
   "execution_count": 148,
   "metadata": {
    "collapsed": false
   },
   "outputs": [
    {
     "data": {
      "text/plain": [
       "<matplotlib.axes._subplots.AxesSubplot at 0x11b58cf28>"
      ]
     },
     "execution_count": 148,
     "metadata": {},
     "output_type": "execute_result"
    },
    {
     "data": {
      "image/png": "[encoded data removed]",
      "text/plain": [
       "<matplotlib.figure.Figure at 0x11b58c588>"
      ]
     },
     "metadata": {},
     "output_type": "display_data"
    }
   ],
   "source": [
    "ts = pd.Series(np.random.randn(1000), index=pd.date_range('1/1/2000', periods=1000))\n",
    "ts = ts.cumsum()\n",
    "ts.plot()"
   ]
  },
  {
   "cell_type": "code",
   "execution_count": 149,
   "metadata": {
    "collapsed": false
   },
   "outputs": [
    {
     "data": {
      "text/html": [
       "<div>\n",
       "<table border=\"1\" class=\"dataframe\">\n",
       "  <thead>\n",
       "    <tr style=\"text-align: right;\">\n",
       "      <th></th>\n",
       "      <th>A</th>\n",
       "      <th>B</th>\n",
       "      <th>C</th>\n",
       "      <th>D</th>\n",
       "    </tr>\n",
       "  </thead>\n",
       "  <tbody>\n",
       "    <tr>\n",
       "      <th>0</th>\n",
       "      <td>0.779521</td>\n",
       "      <td>1.676673</td>\n",
       "      <td>-0.301394</td>\n",
       "      <td>0.862750</td>\n",
       "    </tr>\n",
       "    <tr>\n",
       "      <th>1</th>\n",
       "      <td>0.823425</td>\n",
       "      <td>2.212430</td>\n",
       "      <td>0.648220</td>\n",
       "      <td>-1.063135</td>\n",
       "    </tr>\n",
       "    <tr>\n",
       "      <th>2</th>\n",
       "      <td>0.667918</td>\n",
       "      <td>-0.228578</td>\n",
       "      <td>1.178518</td>\n",
       "      <td>-1.092225</td>\n",
       "    </tr>\n",
       "    <tr>\n",
       "      <th>3</th>\n",
       "      <td>-0.917929</td>\n",
       "      <td>-0.488741</td>\n",
       "      <td>0.536762</td>\n",
       "      <td>0.450702</td>\n",
       "    </tr>\n",
       "    <tr>\n",
       "      <th>4</th>\n",
       "      <td>-0.106557</td>\n",
       "      <td>-1.171121</td>\n",
       "      <td>-0.124944</td>\n",
       "      <td>-0.021547</td>\n",
       "    </tr>\n",
       "    <tr>\n",
       "      <th>5</th>\n",
       "      <td>1.114488</td>\n",
       "      <td>0.333266</td>\n",
       "      <td>0.019064</td>\n",
       "      <td>0.193218</td>\n",
       "    </tr>\n",
       "    <tr>\n",
       "      <th>6</th>\n",
       "      <td>-1.261637</td>\n",
       "      <td>0.117194</td>\n",
       "      <td>-1.741819</td>\n",
       "      <td>-0.158452</td>\n",
       "    </tr>\n",
       "    <tr>\n",
       "      <th>7</th>\n",
       "      <td>-0.314921</td>\n",
       "      <td>0.930964</td>\n",
       "      <td>0.214532</td>\n",
       "      <td>1.223443</td>\n",
       "    </tr>\n",
       "  </tbody>\n",
       "</table>\n",
       "</div>"
      ],
      "text/plain": [
       "          A         B         C         D\n",
       "0  0.779521  1.676673 -0.301394  0.862750\n",
       "1  0.823425  2.212430  0.648220 -1.063135\n",
       "2  0.667918 -0.228578  1.178518 -1.092225\n",
       "3 -0.917929 -0.488741  0.536762  0.450702\n",
       "4 -0.106557 -1.171121 -0.124944 -0.021547\n",
       "5  1.114488  0.333266  0.019064  0.193218\n",
       "6 -1.261637  0.117194 -1.741819 -0.158452\n",
       "7 -0.314921  0.930964  0.214532  1.223443"
      ]
     },
     "execution_count": 149,
     "metadata": {},
     "output_type": "execute_result"
    }
   ],
   "source": [
    "df.to_csv('foo.csv')\n",
    "pd.read_csv('foo.csv')\n",
    "df.to_excel('foo.xlsx', sheet_name='Sheet1')\n",
    "pd.read_excel('foo.xlsx', 'Sheet1', index_col=None, na_values=['NA'])\n",
    "df.to_hdf('foo.h5','df')\n",
    "pd.read_hdf('foo.h5','df')"
   ]
  }
 ],
 "metadata": {
  "kernelspec": {
   "display_name": "Python 3",
   "language": "python",
   "name": "python3"
  },
  "language_info": {
   "codemirror_mode": {
    "name": "ipython",
    "version": 3
   },
   "file_extension": ".py",
   "mimetype": "text/x-python",
   "name": "python",
   "nbconvert_exporter": "python",
   "pygments_lexer": "ipython3",
   "version": "3.6.0"
  }
 },
 "nbformat": 4,
 "nbformat_minor": 2
}
